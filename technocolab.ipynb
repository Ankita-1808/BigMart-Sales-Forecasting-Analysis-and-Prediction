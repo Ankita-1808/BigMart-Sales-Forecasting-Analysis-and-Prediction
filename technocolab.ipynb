{
 "cells": [
  {
   "cell_type": "markdown",
   "id": "228e6dbd",
   "metadata": {},
   "source": [
    "# 1. Import Libraries"
   ]
  },
  {
   "cell_type": "code",
   "execution_count": 1,
   "id": "3f72261e",
   "metadata": {},
   "outputs": [],
   "source": [
    "import pandas as pd\n",
    "from sklearn.preprocessing import LabelEncoder, MinMaxScaler\n",
    "\n"
   ]
  },
  {
   "cell_type": "markdown",
   "id": "4b3d0496",
   "metadata": {},
   "source": [
    "# 2. Load and Combine Datasets"
   ]
  },
  {
   "cell_type": "code",
   "execution_count": 2,
   "id": "32389be4",
   "metadata": {},
   "outputs": [],
   "source": [
    "# File paths\n",
    "files = {\n",
    "    \"hz\": \"delivery_hz.csv\",\n",
    "    \"sh\": \"delivery_sh.csv\",\n",
    "    \"cq\": \"delivery_cq.csv\",\n",
    "    \"yt\": \"delivery_yt.csv\",\n",
    "    \"jl\": \"delivery_delivery_jl.csv\"\n",
    "}"
   ]
  },
  {
   "cell_type": "code",
   "execution_count": 3,
   "id": "dbd88190",
   "metadata": {},
   "outputs": [],
   "source": [
    "# Load datasets into DataFrames\n",
    "dataframes = [pd.read_csv(path) for path in files.values()]"
   ]
  },
  {
   "cell_type": "code",
   "execution_count": 4,
   "id": "0cc99fa9",
   "metadata": {},
   "outputs": [],
   "source": [
    "# Combine all datasets into one\n",
    "data = pd.concat(dataframes, ignore_index=True)"
   ]
  },
  {
   "cell_type": "code",
   "execution_count": 5,
   "id": "cae4058c",
   "metadata": {
    "scrolled": true
   },
   "outputs": [
    {
     "data": {
      "text/html": [
       "<div>\n",
       "<style scoped>\n",
       "    .dataframe tbody tr th:only-of-type {\n",
       "        vertical-align: middle;\n",
       "    }\n",
       "\n",
       "    .dataframe tbody tr th {\n",
       "        vertical-align: top;\n",
       "    }\n",
       "\n",
       "    .dataframe thead th {\n",
       "        text-align: right;\n",
       "    }\n",
       "</style>\n",
       "<table border=\"1\" class=\"dataframe\">\n",
       "  <thead>\n",
       "    <tr style=\"text-align: right;\">\n",
       "      <th></th>\n",
       "      <th>order_id</th>\n",
       "      <th>region_id</th>\n",
       "      <th>city</th>\n",
       "      <th>courier_id</th>\n",
       "      <th>lng</th>\n",
       "      <th>lat</th>\n",
       "      <th>aoi_id</th>\n",
       "      <th>aoi_type</th>\n",
       "      <th>accept_time</th>\n",
       "      <th>accept_gps_time</th>\n",
       "      <th>accept_gps_lng</th>\n",
       "      <th>accept_gps_lat</th>\n",
       "      <th>delivery_time</th>\n",
       "      <th>delivery_gps_time</th>\n",
       "      <th>delivery_gps_lng</th>\n",
       "      <th>delivery_gps_lat</th>\n",
       "      <th>ds</th>\n",
       "    </tr>\n",
       "  </thead>\n",
       "  <tbody>\n",
       "    <tr>\n",
       "      <th>0</th>\n",
       "      <td>583722</td>\n",
       "      <td>0</td>\n",
       "      <td>Hangzhou</td>\n",
       "      <td>175</td>\n",
       "      <td>120.17895</td>\n",
       "      <td>30.26401</td>\n",
       "      <td>749</td>\n",
       "      <td>1</td>\n",
       "      <td>10-30 09:20:00</td>\n",
       "      <td>10-30 09:20:00</td>\n",
       "      <td>120.20600</td>\n",
       "      <td>30.28657</td>\n",
       "      <td>10-30 10:30:00</td>\n",
       "      <td>10-30 10:30:00</td>\n",
       "      <td>120.17908</td>\n",
       "      <td>30.26392</td>\n",
       "      <td>1030</td>\n",
       "    </tr>\n",
       "    <tr>\n",
       "      <th>1</th>\n",
       "      <td>2819059</td>\n",
       "      <td>0</td>\n",
       "      <td>Hangzhou</td>\n",
       "      <td>175</td>\n",
       "      <td>120.17899</td>\n",
       "      <td>30.26336</td>\n",
       "      <td>749</td>\n",
       "      <td>1</td>\n",
       "      <td>10-31 09:47:00</td>\n",
       "      <td>10-31 09:47:00</td>\n",
       "      <td>120.20591</td>\n",
       "      <td>30.28651</td>\n",
       "      <td>10-31 10:40:00</td>\n",
       "      <td>10-31 10:40:00</td>\n",
       "      <td>120.17884</td>\n",
       "      <td>30.26360</td>\n",
       "      <td>1031</td>\n",
       "    </tr>\n",
       "    <tr>\n",
       "      <th>2</th>\n",
       "      <td>2879432</td>\n",
       "      <td>0</td>\n",
       "      <td>Hangzhou</td>\n",
       "      <td>175</td>\n",
       "      <td>120.17896</td>\n",
       "      <td>30.26404</td>\n",
       "      <td>749</td>\n",
       "      <td>1</td>\n",
       "      <td>10-22 10:11:00</td>\n",
       "      <td>10-22 10:11:00</td>\n",
       "      <td>120.20598</td>\n",
       "      <td>30.28668</td>\n",
       "      <td>10-22 15:03:00</td>\n",
       "      <td>10-22 15:03:00</td>\n",
       "      <td>120.17939</td>\n",
       "      <td>30.26395</td>\n",
       "      <td>1022</td>\n",
       "    </tr>\n",
       "    <tr>\n",
       "      <th>3</th>\n",
       "      <td>392295</td>\n",
       "      <td>0</td>\n",
       "      <td>Hangzhou</td>\n",
       "      <td>175</td>\n",
       "      <td>120.17897</td>\n",
       "      <td>30.26408</td>\n",
       "      <td>749</td>\n",
       "      <td>1</td>\n",
       "      <td>10-26 09:41:00</td>\n",
       "      <td>10-26 09:41:00</td>\n",
       "      <td>120.20600</td>\n",
       "      <td>30.28657</td>\n",
       "      <td>10-26 10:30:00</td>\n",
       "      <td>10-26 10:30:00</td>\n",
       "      <td>120.17925</td>\n",
       "      <td>30.26465</td>\n",
       "      <td>1026</td>\n",
       "    </tr>\n",
       "    <tr>\n",
       "      <th>4</th>\n",
       "      <td>231864</td>\n",
       "      <td>0</td>\n",
       "      <td>Hangzhou</td>\n",
       "      <td>175</td>\n",
       "      <td>120.17888</td>\n",
       "      <td>30.26406</td>\n",
       "      <td>749</td>\n",
       "      <td>1</td>\n",
       "      <td>10-31 15:58:00</td>\n",
       "      <td>10-31 15:58:00</td>\n",
       "      <td>120.20605</td>\n",
       "      <td>30.28666</td>\n",
       "      <td>10-31 16:41:00</td>\n",
       "      <td>10-31 16:41:00</td>\n",
       "      <td>120.17886</td>\n",
       "      <td>30.26402</td>\n",
       "      <td>1031</td>\n",
       "    </tr>\n",
       "  </tbody>\n",
       "</table>\n",
       "</div>"
      ],
      "text/plain": [
       "   order_id  region_id      city  courier_id        lng       lat  aoi_id  \\\n",
       "0    583722          0  Hangzhou         175  120.17895  30.26401     749   \n",
       "1   2819059          0  Hangzhou         175  120.17899  30.26336     749   \n",
       "2   2879432          0  Hangzhou         175  120.17896  30.26404     749   \n",
       "3    392295          0  Hangzhou         175  120.17897  30.26408     749   \n",
       "4    231864          0  Hangzhou         175  120.17888  30.26406     749   \n",
       "\n",
       "   aoi_type     accept_time accept_gps_time  accept_gps_lng  accept_gps_lat  \\\n",
       "0         1  10-30 09:20:00  10-30 09:20:00       120.20600        30.28657   \n",
       "1         1  10-31 09:47:00  10-31 09:47:00       120.20591        30.28651   \n",
       "2         1  10-22 10:11:00  10-22 10:11:00       120.20598        30.28668   \n",
       "3         1  10-26 09:41:00  10-26 09:41:00       120.20600        30.28657   \n",
       "4         1  10-31 15:58:00  10-31 15:58:00       120.20605        30.28666   \n",
       "\n",
       "    delivery_time delivery_gps_time  delivery_gps_lng  delivery_gps_lat    ds  \n",
       "0  10-30 10:30:00    10-30 10:30:00         120.17908          30.26392  1030  \n",
       "1  10-31 10:40:00    10-31 10:40:00         120.17884          30.26360  1031  \n",
       "2  10-22 15:03:00    10-22 15:03:00         120.17939          30.26395  1022  \n",
       "3  10-26 10:30:00    10-26 10:30:00         120.17925          30.26465  1026  \n",
       "4  10-31 16:41:00    10-31 16:41:00         120.17886          30.26402  1031  "
      ]
     },
     "execution_count": 5,
     "metadata": {},
     "output_type": "execute_result"
    }
   ],
   "source": [
    "# Display the first few rows\n",
    "data.head()"
   ]
  },
  {
   "cell_type": "code",
   "execution_count": null,
   "id": "84714730",
   "metadata": {},
   "outputs": [],
   "source": []
  },
  {
   "cell_type": "code",
   "execution_count": 6,
   "id": "c7048bb0",
   "metadata": {},
   "outputs": [
    {
     "name": "stdout",
     "output_type": "stream",
     "text": [
      "Merged data saved to 'merged_delivery_data.csv'\n"
     ]
    }
   ],
   "source": [
    "# Save the merged dataset\n",
    "data.to_csv(\"merged_delivery_data.csv\", index=False)\n",
    "print(\"Merged data saved to 'merged_delivery_data.csv'\")"
   ]
  },
  {
   "cell_type": "code",
   "execution_count": null,
   "id": "676db5e0",
   "metadata": {},
   "outputs": [],
   "source": []
  },
  {
   "cell_type": "code",
   "execution_count": 7,
   "id": "22137ae9",
   "metadata": {},
   "outputs": [],
   "source": [
    "# Load the dataset\n",
    "df = pd.read_csv('merged_delivery_data.csv')"
   ]
  },
  {
   "cell_type": "code",
   "execution_count": 8,
   "id": "93cbe5da",
   "metadata": {},
   "outputs": [
    {
     "data": {
      "text/html": [
       "<div>\n",
       "<style scoped>\n",
       "    .dataframe tbody tr th:only-of-type {\n",
       "        vertical-align: middle;\n",
       "    }\n",
       "\n",
       "    .dataframe tbody tr th {\n",
       "        vertical-align: top;\n",
       "    }\n",
       "\n",
       "    .dataframe thead th {\n",
       "        text-align: right;\n",
       "    }\n",
       "</style>\n",
       "<table border=\"1\" class=\"dataframe\">\n",
       "  <thead>\n",
       "    <tr style=\"text-align: right;\">\n",
       "      <th></th>\n",
       "      <th>order_id</th>\n",
       "      <th>region_id</th>\n",
       "      <th>city</th>\n",
       "      <th>courier_id</th>\n",
       "      <th>lng</th>\n",
       "      <th>lat</th>\n",
       "      <th>aoi_id</th>\n",
       "      <th>aoi_type</th>\n",
       "      <th>accept_time</th>\n",
       "      <th>accept_gps_time</th>\n",
       "      <th>accept_gps_lng</th>\n",
       "      <th>accept_gps_lat</th>\n",
       "      <th>delivery_time</th>\n",
       "      <th>delivery_gps_time</th>\n",
       "      <th>delivery_gps_lng</th>\n",
       "      <th>delivery_gps_lat</th>\n",
       "      <th>ds</th>\n",
       "    </tr>\n",
       "  </thead>\n",
       "  <tbody>\n",
       "    <tr>\n",
       "      <th>0</th>\n",
       "      <td>583722</td>\n",
       "      <td>0</td>\n",
       "      <td>Hangzhou</td>\n",
       "      <td>175</td>\n",
       "      <td>120.17895</td>\n",
       "      <td>30.26401</td>\n",
       "      <td>749</td>\n",
       "      <td>1</td>\n",
       "      <td>10-30 09:20:00</td>\n",
       "      <td>10-30 09:20:00</td>\n",
       "      <td>120.20600</td>\n",
       "      <td>30.28657</td>\n",
       "      <td>10-30 10:30:00</td>\n",
       "      <td>10-30 10:30:00</td>\n",
       "      <td>120.17908</td>\n",
       "      <td>30.26392</td>\n",
       "      <td>1030</td>\n",
       "    </tr>\n",
       "    <tr>\n",
       "      <th>1</th>\n",
       "      <td>2819059</td>\n",
       "      <td>0</td>\n",
       "      <td>Hangzhou</td>\n",
       "      <td>175</td>\n",
       "      <td>120.17899</td>\n",
       "      <td>30.26336</td>\n",
       "      <td>749</td>\n",
       "      <td>1</td>\n",
       "      <td>10-31 09:47:00</td>\n",
       "      <td>10-31 09:47:00</td>\n",
       "      <td>120.20591</td>\n",
       "      <td>30.28651</td>\n",
       "      <td>10-31 10:40:00</td>\n",
       "      <td>10-31 10:40:00</td>\n",
       "      <td>120.17884</td>\n",
       "      <td>30.26360</td>\n",
       "      <td>1031</td>\n",
       "    </tr>\n",
       "    <tr>\n",
       "      <th>2</th>\n",
       "      <td>2879432</td>\n",
       "      <td>0</td>\n",
       "      <td>Hangzhou</td>\n",
       "      <td>175</td>\n",
       "      <td>120.17896</td>\n",
       "      <td>30.26404</td>\n",
       "      <td>749</td>\n",
       "      <td>1</td>\n",
       "      <td>10-22 10:11:00</td>\n",
       "      <td>10-22 10:11:00</td>\n",
       "      <td>120.20598</td>\n",
       "      <td>30.28668</td>\n",
       "      <td>10-22 15:03:00</td>\n",
       "      <td>10-22 15:03:00</td>\n",
       "      <td>120.17939</td>\n",
       "      <td>30.26395</td>\n",
       "      <td>1022</td>\n",
       "    </tr>\n",
       "    <tr>\n",
       "      <th>3</th>\n",
       "      <td>392295</td>\n",
       "      <td>0</td>\n",
       "      <td>Hangzhou</td>\n",
       "      <td>175</td>\n",
       "      <td>120.17897</td>\n",
       "      <td>30.26408</td>\n",
       "      <td>749</td>\n",
       "      <td>1</td>\n",
       "      <td>10-26 09:41:00</td>\n",
       "      <td>10-26 09:41:00</td>\n",
       "      <td>120.20600</td>\n",
       "      <td>30.28657</td>\n",
       "      <td>10-26 10:30:00</td>\n",
       "      <td>10-26 10:30:00</td>\n",
       "      <td>120.17925</td>\n",
       "      <td>30.26465</td>\n",
       "      <td>1026</td>\n",
       "    </tr>\n",
       "    <tr>\n",
       "      <th>4</th>\n",
       "      <td>231864</td>\n",
       "      <td>0</td>\n",
       "      <td>Hangzhou</td>\n",
       "      <td>175</td>\n",
       "      <td>120.17888</td>\n",
       "      <td>30.26406</td>\n",
       "      <td>749</td>\n",
       "      <td>1</td>\n",
       "      <td>10-31 15:58:00</td>\n",
       "      <td>10-31 15:58:00</td>\n",
       "      <td>120.20605</td>\n",
       "      <td>30.28666</td>\n",
       "      <td>10-31 16:41:00</td>\n",
       "      <td>10-31 16:41:00</td>\n",
       "      <td>120.17886</td>\n",
       "      <td>30.26402</td>\n",
       "      <td>1031</td>\n",
       "    </tr>\n",
       "  </tbody>\n",
       "</table>\n",
       "</div>"
      ],
      "text/plain": [
       "   order_id  region_id      city  courier_id        lng       lat  aoi_id  \\\n",
       "0    583722          0  Hangzhou         175  120.17895  30.26401     749   \n",
       "1   2819059          0  Hangzhou         175  120.17899  30.26336     749   \n",
       "2   2879432          0  Hangzhou         175  120.17896  30.26404     749   \n",
       "3    392295          0  Hangzhou         175  120.17897  30.26408     749   \n",
       "4    231864          0  Hangzhou         175  120.17888  30.26406     749   \n",
       "\n",
       "   aoi_type     accept_time accept_gps_time  accept_gps_lng  accept_gps_lat  \\\n",
       "0         1  10-30 09:20:00  10-30 09:20:00       120.20600        30.28657   \n",
       "1         1  10-31 09:47:00  10-31 09:47:00       120.20591        30.28651   \n",
       "2         1  10-22 10:11:00  10-22 10:11:00       120.20598        30.28668   \n",
       "3         1  10-26 09:41:00  10-26 09:41:00       120.20600        30.28657   \n",
       "4         1  10-31 15:58:00  10-31 15:58:00       120.20605        30.28666   \n",
       "\n",
       "    delivery_time delivery_gps_time  delivery_gps_lng  delivery_gps_lat    ds  \n",
       "0  10-30 10:30:00    10-30 10:30:00         120.17908          30.26392  1030  \n",
       "1  10-31 10:40:00    10-31 10:40:00         120.17884          30.26360  1031  \n",
       "2  10-22 15:03:00    10-22 15:03:00         120.17939          30.26395  1022  \n",
       "3  10-26 10:30:00    10-26 10:30:00         120.17925          30.26465  1026  \n",
       "4  10-31 16:41:00    10-31 16:41:00         120.17886          30.26402  1031  "
      ]
     },
     "execution_count": 8,
     "metadata": {},
     "output_type": "execute_result"
    }
   ],
   "source": [
    "# Display the first few rows\n",
    "data.head()"
   ]
  },
  {
   "cell_type": "markdown",
   "id": "c4d185ea",
   "metadata": {},
   "source": [
    "# 1. Data Cleaning"
   ]
  },
  {
   "cell_type": "code",
   "execution_count": 9,
   "id": "085f0bf6",
   "metadata": {},
   "outputs": [],
   "source": [
    "# Handle missing values\n",
    "critical_columns = ['accept_time', 'delivery_time', 'lng', 'lat']\n",
    "for column in critical_columns:\n",
    "    if df[column].dtype in ['float64', 'int64']:\n",
    "        df[column].fillna(df[column].mean(), inplace=True)  # Fill numerical columns with mean\n",
    "    else:\n",
    "        df[column].fillna('Unknown', inplace=True)  # Fill categorical columns with 'Unknown'"
   ]
  },
  {
   "cell_type": "code",
   "execution_count": 10,
   "id": "368875d5",
   "metadata": {},
   "outputs": [],
   "source": [
    "# Remove duplicate entries based on `package_id`\n",
    "df.drop_duplicates(subset=['courier_id'], inplace=True)"
   ]
  },
  {
   "cell_type": "code",
   "execution_count": 11,
   "id": "d67584db",
   "metadata": {},
   "outputs": [],
   "source": [
    "# Verify and correct data types\n",
    "date_columns = ['accept_time', 'delivery_time', 'accept_gps_time', 'delivery_gps_time', 'ds']\n",
    "for col in date_columns:\n",
    "    df[col] = pd.to_datetime(df[col], format='%Y-%m-%d %H:%M:%S', errors='coerce')"
   ]
  },
  {
   "cell_type": "code",
   "execution_count": 12,
   "id": "5a7a2a67",
   "metadata": {},
   "outputs": [],
   "source": [
    "# Convert `lng` and `lat` to float if not already\n",
    "df['lng'] = df['lng'].astype(float, errors='ignore')\n",
    "df['lat'] = df['lat'].astype(float, errors='ignore')\n"
   ]
  },
  {
   "cell_type": "markdown",
   "id": "f0ba188e",
   "metadata": {},
   "source": [
    "# 2. Outlier Detection\n"
   ]
  },
  {
   "cell_type": "code",
   "execution_count": 13,
   "id": "341652b5",
   "metadata": {},
   "outputs": [],
   "source": [
    "# Anomalies in delivery times (e.g., delivery_time earlier than accept_time)\n",
    "df = df[df['delivery_time'] >= df['accept_time']]"
   ]
  },
  {
   "cell_type": "code",
   "execution_count": 14,
   "id": "e95121c8",
   "metadata": {},
   "outputs": [],
   "source": [
    "# Anomalies in geospatial coordinates (e.g., invalid lat/lng values)\n",
    "df = df[(df['lng'] >= -180) & (df['lng'] <= 180)]\n",
    "df = df[(df['lat'] >= -90) & (df['lat'] <= 90)]"
   ]
  },
  {
   "cell_type": "markdown",
   "id": "1b895a99",
   "metadata": {},
   "source": [
    "# 3. Data Transformation"
   ]
  },
  {
   "cell_type": "code",
   "execution_count": 15,
   "id": "22736475",
   "metadata": {},
   "outputs": [],
   "source": [
    "# Encode categorical variables\n",
    "categorical_columns = ['city', 'aoi_type']\n",
    "label_encoders = {}\n",
    "for column in categorical_columns:\n",
    "    le = LabelEncoder()\n",
    "    df[column] = le.fit_transform(df[column])\n",
    "    label_encoders[column] = le\n"
   ]
  },
  {
   "cell_type": "code",
   "execution_count": 17,
   "id": "86ec7e6a",
   "metadata": {},
   "outputs": [
    {
     "name": "stdout",
     "output_type": "stream",
     "text": [
      "No data to scale in numerical columns.\n"
     ]
    }
   ],
   "source": [
    "# Normalize numerical features\n",
    "from sklearn.preprocessing import MinMaxScaler\n",
    "\n",
    "numerical_columns = ['lng', 'lat', 'accept_gps_lng', 'accept_gps_lat', 'delivery_gps_lng', 'delivery_gps_lat']\n",
    "\n",
    "# Drop rows with missing values in numerical columns\n",
    "df.dropna(subset=numerical_columns, inplace=True)\n",
    "\n",
    "# Fill any remaining missing values with column mean\n",
    "df[numerical_columns] = df[numerical_columns].fillna(df[numerical_columns].mean())\n",
    "\n",
    "# Ensure there is data before scaling\n",
    "if not df[numerical_columns].empty:\n",
    "    scaler = MinMaxScaler()\n",
    "    df[numerical_columns] = scaler.fit_transform(df[numerical_columns])\n",
    "    print(\"Normalization completed.\")\n",
    "else:\n",
    "    print(\"No data to scale in numerical columns.\")\n"
   ]
  },
  {
   "cell_type": "code",
   "execution_count": 18,
   "id": "ff4d64de",
   "metadata": {},
   "outputs": [
    {
     "name": "stdout",
     "output_type": "stream",
     "text": [
      "Cleaned data saved to 'cleaned_delivery_data.csv'\n"
     ]
    }
   ],
   "source": [
    "# Save the cleaned and processed dataset\n",
    "data.to_csv(\"cleaned_delivery_data.csv\", index=False)\n",
    "print(\"Cleaned data saved to 'cleaned_delivery_data.csv'\")"
   ]
  },
  {
   "cell_type": "code",
   "execution_count": null,
   "id": "5a3acae5",
   "metadata": {},
   "outputs": [],
   "source": []
  }
 ],
 "metadata": {
  "kernelspec": {
   "display_name": "Python 3 (ipykernel)",
   "language": "python",
   "name": "python3"
  },
  "language_info": {
   "codemirror_mode": {
    "name": "ipython",
    "version": 3
   },
   "file_extension": ".py",
   "mimetype": "text/x-python",
   "name": "python",
   "nbconvert_exporter": "python",
   "pygments_lexer": "ipython3",
   "version": "3.11.5"
  }
 },
 "nbformat": 4,
 "nbformat_minor": 5
}
